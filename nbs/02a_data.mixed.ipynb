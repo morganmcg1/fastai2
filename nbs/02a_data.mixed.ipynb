{
 "cells": [
  {
   "cell_type": "code",
   "execution_count": null,
   "metadata": {},
   "outputs": [],
   "source": [
    "#default_exp data.mixed"
   ]
  },
  {
   "cell_type": "code",
   "execution_count": null,
   "metadata": {},
   "outputs": [],
   "source": [
    "#export\n",
    "from fastai2.torch_basics import *\n",
    "from fastai2.data.load import _FakeLoader, _loaders"
   ]
  },
  {
   "cell_type": "code",
   "execution_count": null,
   "metadata": {},
   "outputs": [],
   "source": [
    "from nbdev.showdoc import *"
   ]
  },
  {
   "cell_type": "markdown",
   "metadata": {},
   "source": [
    "## Mixed DataLoader"
   ]
  },
  {
   "cell_type": "code",
   "execution_count": null,
   "metadata": {},
   "outputs": [],
   "source": [
    "#export\n",
    "def _arrayisin(arr, arr_list):\n",
    "    \"Checks if `arr` is in `arr_list`\"\n",
    "    for a in arr_list:\n",
    "        if np.array_equal(arr, a):\n",
    "            return True\n",
    "    return False"
   ]
  },
  {
   "cell_type": "code",
   "execution_count": null,
   "metadata": {},
   "outputs": [],
   "source": [
    "#export\n",
    "class MixedDL():\n",
    "    def __init__(self, *dls, device='cuda:0'):\n",
    "        \"Accepts any number of `DataLoaders` and a device\"\n",
    "        self.device = device\n",
    "        for dl in dls: dl.shuffle_fn = self.shuffle_fn\n",
    "        self.dls = dls\n",
    "        self.count = 0\n",
    "        self.fake_l = _FakeLoader(self, False, 0, 0)\n",
    "        self._get_idxs()\n",
    "        \n",
    "    def __len__(self): return len(self.dls[0])\n",
    "    \n",
    "    def _get_vals(self, x):\n",
    "        \"Checks for duplicates in batches\"\n",
    "        idxs, new_x = [], []\n",
    "        for i, o in enumerate(x): x[i] = o.cpu().numpy().flatten()\n",
    "        for idx, o in enumerate(x):\n",
    "            if not _arrayisin(o, new_x):\n",
    "                idxs.append(idx)\n",
    "                new_x.append(o)\n",
    "        return idxs\n",
    "    \n",
    "    \n",
    "    def _get_idxs(self):\n",
    "        \"Get `x` and `y` indicies for batches of data\"\n",
    "        dl_dict = dict(zip(range(0,len(self.dls)), [dl.n_inp for dl in self.dls]))\n",
    "        inps = L([])\n",
    "        outs = L([])\n",
    "        for key, n_inp in dl_dict.items():\n",
    "            b = next(iter(self.dls[key]))\n",
    "            inps += L(b[:n_inp])\n",
    "            outs += L(b[n_inp:])\n",
    "        self.x_idxs = self._get_vals(inps)\n",
    "        self.y_idxs = self._get_vals(outs)\n",
    "    \n",
    "    def __iter__(self):\n",
    "        z = zip(*[_loaders[i.fake_l.num_workers==0](i.fake_l) for i in self.dls])\n",
    "        for b in z:   \n",
    "            inps = []\n",
    "            outs = []\n",
    "            if self.device is not None: \n",
    "                b = to_device(b, self.device)\n",
    "            for batch, dl in zip(b, self.dls):\n",
    "                batch = dl.after_batch(batch)\n",
    "                inps += batch[:dl.n_inp]\n",
    "                outs += batch[dl.n_inp:]\n",
    "            inps = L(inps)[self.x_idxs]\n",
    "            outs = L(outs)[self.y_idxs]\n",
    "            yield (inps, outs)\n",
    "                \n",
    "    def one_batch(self):\n",
    "        \"Grab one batch of data\"\n",
    "        with self.fake_l.no_multiproc(): res = first(self)\n",
    "        if hasattr(self, 'it'): delattr(self, 'it')\n",
    "        return res\n",
    "    \n",
    "    def shuffle_fn(self, idxs):\n",
    "        \"Shuffle the internal `DataLoaders`\"\n",
    "        if self.count != len(self.dls):\n",
    "            self.rng = self.dls[0].rng.sample(idxs, len(idxs))\n",
    "            self.count += 1\n",
    "            return self.rng\n",
    "        else:\n",
    "            self.count = 0\n",
    "            return self.rng\n",
    "\n",
    "        \n",
    "    def show_batch(self):\n",
    "        \"Show a batch of data\"\n",
    "        for dl in self.dls:\n",
    "            dl.show_batch()\n",
    "            \n",
    "    def to(self, device): self.device = device\n",
    "        \n",
    "    def new(self, *args, **kwargs):\n",
    "        new_dls = [dl.new(*args, **kwargs) for dl in self.dls]\n",
    "        res = MixedDL(*new_dls)\n",
    "        return res"
   ]
  },
  {
   "cell_type": "markdown",
   "metadata": {},
   "source": [
    "This `DataLoader` takes in any number of `DataLoaders`, and will merge them together into one.\n",
    "\n",
    "If multiples of the inputs or outputs are passed into the combined batches, only one will be kept. "
   ]
  }
 ],
 "metadata": {
  "kernelspec": {
   "display_name": "Python 3",
   "language": "python",
   "name": "python3"
  }
 },
 "nbformat": 4,
 "nbformat_minor": 4
}
